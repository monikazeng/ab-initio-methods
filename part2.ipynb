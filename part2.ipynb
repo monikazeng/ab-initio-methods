{
 "cells": [
  {
   "cell_type": "code",
   "execution_count": 3,
   "metadata": {},
   "outputs": [
    {
     "name": "stdout",
     "output_type": "stream",
     "text": [
      "@+@\n",
      "@s@\n",
      "@1@\n",
      "@x@\n",
      "@u@\n",
      "@a@\n",
      "@x@\n",
      "@l@ 5.981 10.354 6.014\n",
      "@a@ 90.0 108.8 90.0\n",
      "@n@ 16\n",
      "@1@ Ru @ 0.0 0.16653 0.5\n",
      "@2@ Ru @ 0.0 0.83347 0.5\n",
      "@3@ Ru @ 0.5 0.66653 0.5\n",
      "@4@ Ru @ 0.5 0.33347 0.5\n",
      "@5@ Cl @ 0.2273 0.0 0.7361\n",
      "@6@ Cl @ 0.7727 0.0 0.2639\n",
      "@7@ Cl @ 0.7273 0.5 0.7361\n",
      "@8@ Cl @ 0.2727 0.5 0.2639\n",
      "@9@ Cl @ 0.2503 0.17389 0.2661\n",
      "@10@ Cl @ 0.7497 0.17389 0.7339\n",
      "@11@ Cl @ 0.7497 0.82611 0.7339\n",
      "@12@ Cl @ 0.2503 0.82611 0.2661\n",
      "@13@ Cl @ 0.7503 0.67389 0.2661\n",
      "@14@ Cl @ 0.2497 0.67389 0.7339\n",
      "@15@ Cl @ 0.2497 0.32611 0.7339\n",
      "@16@ Cl @ 0.7503 0.32611 0.2661\n",
      "@+@\n",
      "@x@\n",
      "@q@\n",
      "@y@\n"
     ]
    }
   ],
   "source": [
    "with open('=.pipe') as file:\n",
    "    file_contents = file.read()\n",
    "    print(file_contents)\n",
    "    file.close()"
   ]
  },
  {
   "cell_type": "code",
   "execution_count": 1,
   "metadata": {},
   "outputs": [
    {
     "name": "stdout",
     "output_type": "stream",
     "text": [
      "Please enter the atom number(s) need to be calculated, seperate with space: 1\n"
     ]
    }
   ],
   "source": [
    "\n",
    "\n",
    "\n",
    "\n",
    "atom = input(\"Please enter the atom number(s) need to be calculated, seperate with space: \")\n",
    "atomStr = atom.split()\n",
    "atomNum = int(atomStr[0])"
   ]
  },
  {
   "cell_type": "code",
   "execution_count": null,
   "metadata": {},
   "outputs": [],
   "source": []
  },
  {
   "cell_type": "code",
   "execution_count": 142,
   "metadata": {
    "scrolled": true
   },
   "outputs": [
    {
     "name": "stdout",
     "output_type": "stream",
     "text": [
      "0.5000000000\n"
     ]
    }
   ],
   "source": [
    "import os\n",
    "import math\n",
    "from numpy import *\n",
    "from sympy import *\n",
    "\n",
    "\n",
    "lines = []\n",
    "vectors = []\n",
    "angles = []\n",
    "cNumbers = []\n",
    "\n",
    "with open ('=.pipe') as pipe:\n",
    "    for line in pipe:\n",
    "        lines.append(line.rstrip('\\n'))\n",
    "pipe.close()\n",
    "\n",
    "\n",
    "vectorData = lines[7]\n",
    "angleData = lines[8]\n",
    "\n",
    "vectors = vectorData.split()\n",
    "angles = angleData.split()\n",
    "\n",
    "\n",
    "a = float(vectors[1])\n",
    "b = float(vectors[2])\n",
    "c = float(vectors[3])\n",
    "\n",
    "alpha = math.radians(float(angles[1]))\n",
    "beta = math.radians(float(angles[2]))\n",
    "gamma = math.radians(float(angles[3]))\n",
    "\n",
    "\n",
    "Calcny1 = round(math.sqrt(2)*(cos(alpha)*cot(beta)-cos(gamma)*csc(beta)) / math.sqrt(-2*(cos(alpha))**2-cos(2*beta)+4*cos(alpha)*cos(beta)*cos(gamma)-cos(2*gamma)),10)\n",
    "Calcny2 = round(math.sqrt(2)*sin(beta) / math.sqrt(-2*(cos(alpha))**2-cos(2*beta)+4*cos(alpha)*cos(beta)*cos(gamma)-cos(2*gamma)),10)\n",
    "Calcny3 = round(math.sqrt(2)*(cos(gamma)*cot(beta)-cos(alpha)*csc(beta)) / math.sqrt(-2*(cos(alpha))**2-cos(2*beta)+4*cos(alpha)*cos(beta)*cos(gamma)-cos(2*gamma)),10)\n",
    "Calcnz1 = round(-cot(beta), 10)\n",
    "Calcnz3 = round(csc(beta), 10)\n",
    "\n",
    "nx1 = 1\n",
    "nx2 = 0\n",
    "nx3 = 0\n",
    "\n",
    "ny1 = float(\"{:.10f}\".format(float((f\"{Calcny1:.10f}\"))))\n",
    "ny2 = float(\"{:.10f}\".format(float((f\"{Calcny2:.10f}\"))))\n",
    "ny3 = float(\"{:.10f}\".format(float((f\"{Calcny3:.10f}\"))))\n",
    "\n",
    "nz1 = float(\"{:.10f}\".format(float((f\"{Calcnz1:.10f}\"))))\n",
    "nz2 = 0\n",
    "nz3 = float(\"{:.10f}\".format(float((f\"{Calcnz3:.10f}\"))))\n",
    "\n",
    "\n",
    "if atomNum <= len(lines) - 14:\n",
    "    atomNumLine = 9 + atomNum\n",
    "    cNumbersData = lines[atomNumLine]\n",
    "    cNumbers = cNumbersData.split()\n",
    "    c1 = float(cNumbers[3])\n",
    "    c2 = float(cNumbers[4])\n",
    "    c3 = float(cNumbers[5])\n",
    "    \n",
    "    Pcx1 = f\"{(c1 + 0.001*nx1/a):.10f}\"\n",
    "    Pcx2 = f\"{(c2 + 0.001*nx2/b):.10f}\"\n",
    "    Pcx3 = f\"{(c3 + 0.001*nx3/c):.10f}\"\n",
    "    \n",
    "    Ncx1 = f\"{(c1 - 0.001*nx1/a):.10f}\"\n",
    "    Ncx2 = f\"{(c2 - 0.001*nx2/b):.10f}\"\n",
    "    Ncx3 = f\"{(c3 - 0.001*nx3/c):.10f}\"\n",
    "    \n",
    "    Pcy1 = f\"{(c1 + 0.001*ny1/a):.10f}\"\n",
    "    Pcy2 = f\"{(c2 + 0.001*ny2/b):.10f}\"\n",
    "    Pcy3 = f\"{(c3 + 0.001*ny3/c):.10f}\"\n",
    "    \n",
    "    Ncy1 = f\"{(c1 - 0.001*ny1/a):.10f}\"\n",
    "    Ncy2 = f\"{(c2 - 0.001*ny2/b):.10f}\"\n",
    "    Ncy3 = f\"{(c3 - 0.001*ny3/c):.10f}\"\n",
    "    \n",
    "    Pcz1 = f\"{(c1 + 0.001*nz1/a):.10f}\"\n",
    "    Pcz2 = f\"{(c2 + 0.001*nz2/b):.10f}\"\n",
    "    Pcz3 = f\"{(c3 + 0.001*nz3/c):.10f}\"\n",
    "    \n",
    "    Ncz1 = f\"{(c1 - 0.001*nz1/a):.10f}\"\n",
    "    Ncz2 = f\"{(c2 - 0.001*nz2/b):.10f}\"\n",
    "    Ncz3 = f\"{(c3 - 0.001*nz3/c):.10f}\"\n",
    "    \n",
    "    print(Ncx3)\n",
    "    \n",
    "else:\n",
    "    print('Atom' + atomNum + 'does not exist')\n"
   ]
  },
  {
   "cell_type": "code",
   "execution_count": null,
   "metadata": {},
   "outputs": [],
   "source": []
  },
  {
   "cell_type": "code",
   "execution_count": null,
   "metadata": {},
   "outputs": [],
   "source": []
  },
  {
   "cell_type": "code",
   "execution_count": 69,
   "metadata": {},
   "outputs": [
    {
     "name": "stdout",
     "output_type": "stream",
     "text": [
      "@l@ 5.981 10.354 6.014\n",
      "['@l@', '10.354', '6.014', '5.981']\n"
     ]
    }
   ],
   "source": [
    "for i in len(atomStr)\n",
    "    atomNum1 = int(atomStr[i])\n",
    "\n",
    "lines = []\n",
    "angles = []\n",
    "\n",
    "# totAtomsData = lines[9]\n",
    "# totAtoms = int((totAtomsData.split())[1])\n",
    "\n",
    "with open ('=.pipe') as pipe:\n",
    "    for line in pipe:\n",
    "        lines.append(line.rstrip('\\n'))\n",
    "\n",
    "print(lines[7])\n",
    "\n",
    "\n",
    "angleData = lines[7]\n",
    "angleSet = set(angleData.split())\n",
    "for i in angleSet:\n",
    "    angles.append(i)\n",
    "print (angles)"
   ]
  },
  {
   "cell_type": "code",
   "execution_count": null,
   "metadata": {},
   "outputs": [],
   "source": []
  },
  {
   "cell_type": "code",
   "execution_count": null,
   "metadata": {},
   "outputs": [],
   "source": []
  }
 ],
 "metadata": {
  "kernelspec": {
   "display_name": "Python 3",
   "language": "python",
   "name": "python3"
  },
  "language_info": {
   "codemirror_mode": {
    "name": "ipython",
    "version": 3
   },
   "file_extension": ".py",
   "mimetype": "text/x-python",
   "name": "python",
   "nbconvert_exporter": "python",
   "pygments_lexer": "ipython3",
   "version": "3.7.6"
  }
 },
 "nbformat": 4,
 "nbformat_minor": 4
}
