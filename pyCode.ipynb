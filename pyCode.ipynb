{
 "cells": [
  {
   "cell_type": "code",
   "execution_count": 1,
   "metadata": {},
   "outputs": [],
   "source": [
    "import sys"
   ]
  },
  {
   "cell_type": "code",
   "execution_count": 2,
   "metadata": {},
   "outputs": [
    {
     "name": "stdout",
     "output_type": "stream",
     "text": [
      "File not found.\n"
     ]
    }
   ],
   "source": [
    "# (command line argument) provides file name\n",
    "# place cif file within the same running directory or provide full directory\n",
    "\n",
    "try:\n",
    "    cifFile = open(sys.argv[1])\n",
    "except FileNotFoundError:\n",
    "    print(\"File not found.\")"
   ]
  },
  {
   "cell_type": "code",
   "execution_count": null,
   "metadata": {},
   "outputs": [],
   "source": []
  },
  {
   "cell_type": "code",
   "execution_count": 3,
   "metadata": {},
   "outputs": [],
   "source": [
    "import os"
   ]
  },
  {
   "cell_type": "code",
   "execution_count": 4,
   "metadata": {},
   "outputs": [],
   "source": [
    "# create a directory within the current directory\n",
    "# (maybe) create a loop to make directories recursively\n",
    "\n",
    "directory = \"name\" \n",
    "parent_dir = \"./\"\n",
    "path = os.path.join(parent_dir, directory)\n",
    "\n",
    "try:\n",
    "    os.mkdir(path)\n",
    "except OSError as error:\n",
    "    print(error)"
   ]
  },
  {
   "cell_type": "code",
   "execution_count": null,
   "metadata": {},
   "outputs": [],
   "source": []
  },
  {
   "cell_type": "code",
   "execution_count": 3,
   "metadata": {},
   "outputs": [
    {
     "name": "stdout",
     "output_type": "stream",
     "text": [
      "Please enter the file name or its full directory: name\n",
      "[Errno 21] Is a directory: 'name'\n"
     ]
    }
   ],
   "source": [
    "import sys\n",
    "import os\n",
    "\n",
    "file = input(\"Please enter the file name or its full directory: \")\n",
    "try:\n",
    "    cifFile = open(file)\n",
    "except FileNotFoundError:\n",
    "    print(\"File not found.\")\n",
    "except OSError as error:\n",
    "    print(error)"
   ]
  },
  {
   "cell_type": "code",
   "execution_count": null,
   "metadata": {},
   "outputs": [],
   "source": []
  },
  {
   "cell_type": "code",
   "execution_count": 2,
   "metadata": {},
   "outputs": [
    {
     "name": "stdout",
     "output_type": "stream",
     "text": [
      "Please enter the atom number(s) need to be calculated, seperate with space: 16\n",
      "['16']\n",
      "[Errno 17] File exists: './dis_16_0_0_-0.001'\n"
     ]
    }
   ],
   "source": [
    "import os\n",
    "\n",
    "atom = input(\"Please enter the atom number(s) need to be calculated, seperate with space: \")\n",
    "atomStr = atom.split()\n",
    "# number = len(atomStr)\n",
    "\n",
    "print(atomStr)\n",
    "\n",
    "for num in atomStr:\n",
    "    parent_dir = \"./\"\n",
    "    directory1 = \"dis_\" + num + \"_0_0_-0.001\" \n",
    "    directory2 = \"dis_\" + num + \"_0_0_0.001\"\n",
    "    directory3 = \"dis_\" + num + \"_0_-0.001_0\"\n",
    "    directory4 = \"dis_\" + num + \"_0_0.001_0\"\n",
    "    directory5 = \"dis_\" + num + \"_-0.001_0_0\"\n",
    "    directory6 = \"dis_\" + num + \"_0.001_0_0\"\n",
    "    path1 = os.path.join(parent_dir, directory1)\n",
    "    path2 = os.path.join(parent_dir, directory2)\n",
    "    path3 = os.path.join(parent_dir, directory3)\n",
    "    path4 = os.path.join(parent_dir, directory4)\n",
    "    path5 = os.path.join(parent_dir, directory5)\n",
    "    path6 = os.path.join(parent_dir, directory6)\n",
    "    try:\n",
    "        os.mkdir(path1)\n",
    "        os.mkdir(path2)\n",
    "        os.mkdir(path3)\n",
    "        os.mkdir(path4)\n",
    "        os.mkdir(path5)\n",
    "        os.mkdir(path6)\n",
    "        print(\"successfully created directories for atom: \" + num)\n",
    "    except OSError as error:\n",
    "        print(error)\n",
    "    \n",
    "\n",
    "# print(len(atomStr))\n"
   ]
  },
  {
   "cell_type": "code",
   "execution_count": null,
   "metadata": {},
   "outputs": [],
   "source": []
  },
  {
   "cell_type": "code",
   "execution_count": null,
   "metadata": {},
   "outputs": [],
   "source": []
  }
 ],
 "metadata": {
  "kernelspec": {
   "display_name": "Python 3",
   "language": "python",
   "name": "python3"
  },
  "language_info": {
   "codemirror_mode": {
    "name": "ipython",
    "version": 3
   },
   "file_extension": ".py",
   "mimetype": "text/x-python",
   "name": "python",
   "nbconvert_exporter": "python",
   "pygments_lexer": "ipython3",
   "version": "3.7.6"
  }
 },
 "nbformat": 4,
 "nbformat_minor": 4
}
